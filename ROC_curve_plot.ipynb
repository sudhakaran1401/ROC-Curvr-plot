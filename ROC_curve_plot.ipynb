{
  "nbformat": 4,
  "nbformat_minor": 0,
  "metadata": {
    "colab": {
      "name": "ROC curve plot.ipynb",
      "provenance": [],
      "authorship_tag": "ABX9TyORgVmSX9xMhf0YTT3zv663",
      "include_colab_link": true
    },
    "kernelspec": {
      "name": "python3",
      "display_name": "Python 3"
    },
    "language_info": {
      "name": "python"
    }
  },
  "cells": [
    {
      "cell_type": "markdown",
      "metadata": {
        "id": "view-in-github",
        "colab_type": "text"
      },
      "source": [
        "<a href=\"https://colab.research.google.com/github/sudhakaran1401/ROC-Curvr-plot/blob/main/ROC_curve_plot.ipynb\" target=\"_parent\"><img src=\"https://colab.research.google.com/assets/colab-badge.svg\" alt=\"Open In Colab\"/></a>"
      ]
    },
    {
      "cell_type": "code",
      "execution_count": 1,
      "metadata": {
        "colab": {
          "base_uri": "https://localhost:8080/",
          "height": 541
        },
        "id": "0vQ8sTcJkIBJ",
        "outputId": "ee7a075d-a669-4347-c7c1-d58525170b74"
      },
      "outputs": [
        {
          "output_type": "display_data",
          "data": {
            "text/plain": [
              "<Figure size 432x288 with 1 Axes>"
            ],
            "image/png": "[encoded data removed]"
          },
          "metadata": {
            "needs_background": "light"
          }
        },
        {
          "output_type": "display_data",
          "data": {
            "text/plain": [
              "<Figure size 432x288 with 1 Axes>"
            ],
            "image/png": "[encoded data removed]"
          },
          "metadata": {
            "needs_background": "light"
          }
        }
      ],
      "source": [
        "#Ex NO 6. ROC CURVE PLOT\n",
        "import pandas as pd\n",
        "import numpy as np\n",
        "from sklearn.model_selection import train_test_split\n",
        "from sklearn.linear_model import LogisticRegression\n",
        "from sklearn import metrics\n",
        "import matplotlib.pyplot as plt\n",
        "\n",
        "#import dataset from CSV file on Github\n",
        "url = \"https://raw.githubusercontent.com/Statology/Python-Guides/main/default.csv\"\n",
        "data = pd.read_csv(url)\n",
        "\n",
        "#define the predictor variables and the response variable\n",
        "x = data[['student','balance', 'income']]\n",
        "y = data['default']\n",
        "\n",
        "#split the dataset into training (70%) and testing (30%) sets\n",
        "x_train,x_test,y_train,y_test = train_test_split(x,y,test_size=0.3,random_state=0)\n",
        "#instantiate the model\n",
        "log_regression = LogisticRegression()\n",
        "                                    \n",
        "#fit the model using the training data\n",
        "log_regression.fit(x_train,y_train)\n",
        "#define metrics\n",
        "y_pred_proba = log_regression.predict_proba(x_test)[::,1]\n",
        "fpr,tpr, _ = metrics.roc_curve(y_test, y_pred_proba)\n",
        "\n",
        "#create ROC Curve\n",
        "plt.plot(fpr,tpr)\n",
        "plt.ylabel('True Positive Rate')\n",
        "plt.xlabel('False Positive Rate')\n",
        "plt.show()\n",
        "#define metrics\n",
        "y_pred_proba = log_regression.predict_proba(x_test)[::,1]\n",
        "fpr,tpr, _ = metrics.roc_curve(y_test, y_pred_proba)\n",
        "auc = metrics.roc_auc_score(y_test, y_pred_proba)\n",
        "\n",
        "#create ROC Curve\n",
        "plt.plot(fpr,tpr,label=\"AUC = \"+str(auc))\n",
        "plt.ylabel('True Positive Rate')\n",
        "plt.xlabel('False Positive Rate')\n",
        "plt.show()"
      ]
    }
  ]
}